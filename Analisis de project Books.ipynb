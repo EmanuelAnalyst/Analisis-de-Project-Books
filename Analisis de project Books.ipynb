{
 "cells": [
  {
   "cell_type": "markdown",
   "metadata": {},
   "source": [
    "#### Analisis de proyect Books\n",
    "Objetivo:\n",
    "En base a las dinamicas de consumo durante la pandemia de coronavirus los habitantes de las ciudades cambiaron sus rutinas decidiendo pasar mas tiempo en casa leyendo de forma online lo que atrajo la atencion de las startups emergentes que vieron la oportunidad de negocio en el negocio de aplicasiones para estas personas, se analizara la base de datos de uno de estos servisios con el objetivo de desarrollar una nueva propuesta de valor para un nuevo producto "
   ]
  },
  {
   "cell_type": "code",
   "execution_count": null,
   "metadata": {},
   "outputs": [
    {
     "name": "stdout",
     "output_type": "stream",
     "text": [
      "Requirement already satisfied: psycopg2-binary in /.venv/lib/python3.9/site-packages (2.9.2)\n",
      "Note: you may need to restart the kernel to use updated packages.\n"
     ]
    }
   ],
   "source": [
    "pip install psycopg2-binary"
   ]
  },
  {
   "cell_type": "code",
   "execution_count": null,
   "metadata": {},
   "outputs": [],
   "source": [
    "import pandas as pd\n",
    "from sqlalchemy import create_engine\n",
    "import matplotlib.pyplot as plt\n",
    "import seaborn as sns\n",
    "from scipy import stats\n",
    "import numpy as np\n",
    "from urllib.parse import quote_plus\n",
    "db = {\n",
    "    'user': 'practicum_student',\n",
    "    'pwd': 'QnmDH8Sc2TQLvy2G3Vvh7',\n",
    "    'host': 'yp-trainers-practicum.cluster-czs0gxyx2d8w.us-east-1.rds.amazonaws.com',\n",
    "    'port': 5432,\n",
    "    'db': 'data-analyst-final-project-db'\n",
    "}\n",
    "\n",
    "password = quote_plus(db['pwd'])\n",
    "connection_string = (\n",
    "    f\"postgresql+psycopg2://{db['user']}:{password}\"\n",
    "    f\"@{db['host']}:{db['port']}/{db['db']}\"\n",
    ")\n",
    "engine = create_engine(connection_string, connect_args={\"sslmode\": \"require\"})"
   ]
  },
  {
   "cell_type": "code",
   "execution_count": null,
   "metadata": {},
   "outputs": [],
   "source": [
    "df_books= pd.io.sql.read_sql('select * from books', con = engine)"
   ]
  },
  {
   "cell_type": "code",
   "execution_count": null,
   "metadata": {},
   "outputs": [
    {
     "data": {
      "text/html": [
       "<div>\n",
       "<style scoped>\n",
       "    .dataframe tbody tr th:only-of-type {\n",
       "        vertical-align: middle;\n",
       "    }\n",
       "\n",
       "    .dataframe tbody tr th {\n",
       "        vertical-align: top;\n",
       "    }\n",
       "\n",
       "    .dataframe thead th {\n",
       "        text-align: right;\n",
       "    }\n",
       "</style>\n",
       "<table border=\"1\" class=\"dataframe\">\n",
       "  <thead>\n",
       "    <tr style=\"text-align: right;\">\n",
       "      <th></th>\n",
       "      <th>book_id</th>\n",
       "      <th>author_id</th>\n",
       "      <th>title</th>\n",
       "      <th>num_pages</th>\n",
       "      <th>publication_date</th>\n",
       "      <th>publisher_id</th>\n",
       "    </tr>\n",
       "  </thead>\n",
       "  <tbody>\n",
       "    <tr>\n",
       "      <th>0</th>\n",
       "      <td>1</td>\n",
       "      <td>546</td>\n",
       "      <td>'Salem's Lot</td>\n",
       "      <td>594</td>\n",
       "      <td>2005-11-01</td>\n",
       "      <td>93</td>\n",
       "    </tr>\n",
       "    <tr>\n",
       "      <th>1</th>\n",
       "      <td>2</td>\n",
       "      <td>465</td>\n",
       "      <td>1 000 Places to See Before You Die</td>\n",
       "      <td>992</td>\n",
       "      <td>2003-05-22</td>\n",
       "      <td>336</td>\n",
       "    </tr>\n",
       "    <tr>\n",
       "      <th>2</th>\n",
       "      <td>3</td>\n",
       "      <td>407</td>\n",
       "      <td>13 Little Blue Envelopes (Little Blue Envelope...</td>\n",
       "      <td>322</td>\n",
       "      <td>2010-12-21</td>\n",
       "      <td>135</td>\n",
       "    </tr>\n",
       "    <tr>\n",
       "      <th>3</th>\n",
       "      <td>4</td>\n",
       "      <td>82</td>\n",
       "      <td>1491: New Revelations of the Americas Before C...</td>\n",
       "      <td>541</td>\n",
       "      <td>2006-10-10</td>\n",
       "      <td>309</td>\n",
       "    </tr>\n",
       "    <tr>\n",
       "      <th>4</th>\n",
       "      <td>5</td>\n",
       "      <td>125</td>\n",
       "      <td>1776</td>\n",
       "      <td>386</td>\n",
       "      <td>2006-07-04</td>\n",
       "      <td>268</td>\n",
       "    </tr>\n",
       "  </tbody>\n",
       "</table>\n",
       "</div>"
      ],
      "text/plain": [
       "   book_id  author_id                                              title  \\\n",
       "0        1        546                                       'Salem's Lot   \n",
       "1        2        465                 1 000 Places to See Before You Die   \n",
       "2        3        407  13 Little Blue Envelopes (Little Blue Envelope...   \n",
       "3        4         82  1491: New Revelations of the Americas Before C...   \n",
       "4        5        125                                               1776   \n",
       "\n",
       "   num_pages publication_date  publisher_id  \n",
       "0        594       2005-11-01            93  \n",
       "1        992       2003-05-22           336  \n",
       "2        322       2010-12-21           135  \n",
       "3        541       2006-10-10           309  \n",
       "4        386       2006-07-04           268  "
      ]
     },
     "execution_count": 4,
     "metadata": {},
     "output_type": "execute_result"
    }
   ],
   "source": [
    "df_head = pd.read_sql(\"SELECT * FROM books LIMIT 5;\", con=engine)\n",
    "df_head.head()"
   ]
  },
  {
   "cell_type": "code",
   "execution_count": null,
   "metadata": {},
   "outputs": [
    {
     "name": "stdout",
     "output_type": "stream",
     "text": [
      "   book_id  author_id                                              title  \\\n",
      "0        1        546                                       'Salem's Lot   \n",
      "1        2        465                 1 000 Places to See Before You Die   \n",
      "2        3        407  13 Little Blue Envelopes (Little Blue Envelope...   \n",
      "3        4         82  1491: New Revelations of the Americas Before C...   \n",
      "4        5        125                                               1776   \n",
      "\n",
      "   num_pages publication_date  \n",
      "0        594       2005-11-01  \n",
      "1        992       2003-05-22  \n",
      "2        322       2010-12-21  \n",
      "3        541       2006-10-10  \n",
      "4        386       2006-07-04  \n"
     ]
    }
   ],
   "source": [
    "query = \"\"\"\n",
    "SELECT\n",
    "  book_id,\n",
    "  author_id,\n",
    "  title,\n",
    "  num_pages,\n",
    "  CAST(publication_date AS date) AS publication_date\n",
    "FROM books\n",
    "LIMIT 5;\n",
    "\"\"\"\n",
    "\n",
    "df_head = pd.read_sql(query, con=engine)\n",
    "print(df_head)"
   ]
  },
  {
   "cell_type": "markdown",
   "metadata": {},
   "source": [
    " número de libros publicados después del 1 de enero de 2000."
   ]
  },
  {
   "cell_type": "code",
   "execution_count": null,
   "metadata": {},
   "outputs": [
    {
     "name": "stdout",
     "output_type": "stream",
     "text": [
      "819\n"
     ]
    }
   ],
   "source": [
    "query = \"\"\"\n",
    "SELECT COUNT(*) AS num_books_after_2000\n",
    "FROM books\n",
    "WHERE publication_date > '2000-01-01';\n",
    "\"\"\"\n",
    "df = pd.read_sql(query, con=engine)\n",
    "print(df.loc[0, 'num_books_after_2000'])"
   ]
  },
  {
   "cell_type": "markdown",
   "metadata": {},
   "source": [
    "<div class=\"alert alert-block alert-success\">\n",
    "<b>Comentario del revisor (2da Iteracion)</b> <a class=“tocSkip”></a>\n",
    "\n",
    "Buen trabajo con el cálculo! Aplicaste el filtro correcto para obtener los datos\n",
    "</div>"
   ]
  },
  {
   "cell_type": "code",
   "execution_count": null,
   "metadata": {},
   "outputs": [
    {
     "data": {
      "image/png": "[encoded data removed]",
      "text/plain": [
       "<Figure size 1200x600 with 1 Axes>"
      ]
     },
     "metadata": {},
     "output_type": "display_data"
    }
   ],
   "source": [
    "query = \"\"\"\n",
    "SELECT\n",
    "  EXTRACT(YEAR FROM publication_date)::INT AS publication_year,\n",
    "  COUNT(*) AS books_count\n",
    "FROM books\n",
    "GROUP BY publication_year\n",
    "ORDER BY publication_year;\n",
    "\"\"\"\n",
    "df_year_counts = pd.read_sql(query, con=engine)\n",
    "\n",
    "# Ahora puedes graficar lo mismo que con pandas:\n",
    "df_year_counts.plot(\n",
    "    x='publication_year',\n",
    "    y='books_count',\n",
    "    kind='bar',\n",
    "    figsize=(12, 6)\n",
    ")\n",
    "plt.title('Cantidad de libros publicados por año')\n",
    "plt.xlabel('Año de publicación')\n",
    "plt.ylabel('Cantidad de libros')\n",
    "plt.tight_layout()\n",
    "plt.show()"
   ]
  },
  {
   "cell_type": "code",
   "execution_count": null,
   "metadata": {},
   "outputs": [
    {
     "name": "stdout",
     "output_type": "stream",
     "text": [
      "                       0\n",
      "null_book_id           0\n",
      "null_author_id         0\n",
      "null_title             0\n",
      "null_num_pages         0\n",
      "null_publication_date  0\n",
      "null_publisher_id      0\n"
     ]
    }
   ],
   "source": [
    "query = \"\"\"\n",
    "SELECT\n",
    "  COUNT(*) - COUNT(book_id)           AS null_book_id,\n",
    "  COUNT(*) - COUNT(author_id)         AS null_author_id,\n",
    "  COUNT(*) - COUNT(title)             AS null_title,\n",
    "  COUNT(*) - COUNT(num_pages)         AS null_num_pages,\n",
    "  COUNT(*) - COUNT(publication_date)  AS null_publication_date,\n",
    "  COUNT(*) - COUNT(publisher_id)      AS null_publisher_id\n",
    "FROM books;\n",
    "\"\"\"\n",
    "\n",
    "df_nulls = pd.read_sql(query, con=engine)\n",
    "print(df_nulls.T)  # Transpone para verlo columna por fila"
   ]
  },
  {
   "cell_type": "code",
   "execution_count": null,
   "metadata": {},
   "outputs": [
    {
     "name": "stdout",
     "output_type": "stream",
     "text": [
      "(1000, Decimal('389.1110000000000000'), Decimal('229.275416647751'), 14, 249.0, 352.0, 453.0, 2690)\n"
     ]
    }
   ],
   "source": [
    "query = \"\"\"\n",
    "SELECT\n",
    "  COUNT(num_pages) AS count,\n",
    "  AVG(num_pages) AS mean,\n",
    "  STDDEV_POP(num_pages) AS stddev,\n",
    "  MIN(num_pages) AS min,\n",
    "  PERCENTILE_CONT(0.25) WITHIN GROUP (ORDER BY num_pages) AS percentile_25,\n",
    "  PERCENTILE_CONT(0.50) WITHIN GROUP (ORDER BY num_pages) AS median,\n",
    "  PERCENTILE_CONT(0.75) WITHIN GROUP (ORDER BY num_pages) AS percentile_75,\n",
    "  MAX(num_pages) AS max\n",
    "FROM books;\n",
    "\"\"\"\n",
    "\n",
    "# Ejecutar la consulta y obtener los resultados\n",
    "with engine.connect() as connection:\n",
    "    result = connection.execute(query)\n",
    "    for row in result:\n",
    "        print(row)"
   ]
  },
  {
   "cell_type": "markdown",
   "metadata": {},
   "source": [
    "count: 1000\n",
    "(Hay 1000 libros con valor en num_pages)\n",
    "\n",
    "mean (promedio): 389.111\n",
    "(En promedio, los libros tienen unas 389 páginas)\n",
    "\n",
    "stddev (desviación estándar): 229.275\n",
    "(La cantidad de páginas varía bastante alrededor del promedio)\n",
    "\n",
    "min (mínimo): 14\n",
    "(El libro más corto tiene 14 páginas)\n",
    "\n",
    "percentile 25: 249\n",
    "(El 25% de los libros tiene hasta 249 páginas)\n",
    "\n",
    "median (percentil 50): 352\n",
    "(La mediana está en 352 páginas, la mitad de los libros tiene menos o igual a eso)\n",
    "\n",
    "percentile 75: 453\n",
    "(El 75% de los libros tiene hasta 453 páginas)\n",
    "\n",
    "max (máximo): 2690\n",
    "(El libro más largo tiene 2690 páginas)"
   ]
  },
  {
   "cell_type": "code",
   "execution_count": null,
   "metadata": {},
   "outputs": [],
   "source": [
    "query = \"\"\"\n",
    "SELECT\n",
    "  publication_date::DATE AS publication_date\n",
    "FROM books;\n",
    "\"\"\""
   ]
  },
  {
   "cell_type": "code",
   "execution_count": null,
   "metadata": {},
   "outputs": [],
   "source": [
    "df_authors= pd.io.sql.read_sql('select * from authors', con = engine)"
   ]
  },
  {
   "cell_type": "code",
   "execution_count": null,
   "metadata": {},
   "outputs": [
    {
     "name": "stdout",
     "output_type": "stream",
     "text": [
      "   author_id                          author\n",
      "0          1                      A.S. Byatt\n",
      "1          2  Aesop/Laura Harris/Laura Gibbs\n",
      "2          3                 Agatha Christie\n",
      "3          4                   Alan Brennert\n",
      "4          5        Alan Moore/David   Lloyd\n"
     ]
    }
   ],
   "source": [
    "df = pd.read_sql(\"SELECT * FROM authors LIMIT 5;\", con=engine)\n",
    "print(df)"
   ]
  },
  {
   "cell_type": "code",
   "execution_count": null,
   "metadata": {},
   "outputs": [],
   "source": [
    "query = \"\"\"\n",
    "SELECT\n",
    "  COUNT(*) AS total_rows,\n",
    "  COUNT(*) - COUNT(author_id) AS null_author_id,\n",
    "  COUNT(*) - COUNT(author) AS null_author\n",
    "FROM authors;\n",
    "\"\"\" "
   ]
  },
  {
   "cell_type": "code",
   "execution_count": null,
   "metadata": {},
   "outputs": [],
   "source": [
    "df_publishers= pd.io.sql.read_sql('select * from publishers', con = engine)"
   ]
  },
  {
   "cell_type": "code",
   "execution_count": null,
   "metadata": {},
   "outputs": [
    {
     "name": "stdout",
     "output_type": "stream",
     "text": [
      "   total_rows  null_publisher_id  null_publisher\n",
      "0         340                  0               0\n"
     ]
    }
   ],
   "source": [
    "query = \"\"\"\n",
    "SELECT\n",
    "  COUNT(*) AS total_rows,\n",
    "  COUNT(*) - COUNT(publisher_id) AS null_publisher_id,\n",
    "  COUNT(*) - COUNT(publisher) AS null_publisher\n",
    "FROM publishers;\n",
    "\"\"\"\n",
    "df_nulls = pd.read_sql(query, con=engine)\n",
    "print(df_nulls)\n"
   ]
  },
  {
   "cell_type": "code",
   "execution_count": null,
   "metadata": {},
   "outputs": [
    {
     "name": "stdout",
     "output_type": "stream",
     "text": [
      "   publisher_id                          publisher\n",
      "0             1                                Ace\n",
      "1             2                           Ace Book\n",
      "2             3                          Ace Books\n",
      "3             4                      Ace Hardcover\n",
      "4             5  Addison Wesley Publishing Company\n"
     ]
    }
   ],
   "source": [
    "query = \"\"\"\n",
    "SELECT * FROM publishers\n",
    "LIMIT 5;\n",
    "\"\"\"\n",
    "df_publishers = pd.read_sql(query, con=engine)\n",
    "print(df_publishers)"
   ]
  },
  {
   "cell_type": "markdown",
   "metadata": {},
   "source": [
    "Editorial que ha publicado el mayor numero de libros con mas de 50 paginas "
   ]
  },
  {
   "cell_type": "code",
   "execution_count": null,
   "metadata": {},
   "outputs": [
    {
     "name": "stdout",
     "output_type": "stream",
     "text": [
      "   publisher_id      publisher  num_books\n",
      "0           212  Penguin Books         42\n"
     ]
    }
   ],
   "source": [
    "query = \"\"\"\n",
    "SELECT\n",
    "    p.publisher_id,\n",
    "    p.publisher,\n",
    "    COUNT(b.book_id) AS num_books\n",
    "FROM books b\n",
    "JOIN publishers p ON b.publisher_id = p.publisher_id\n",
    "WHERE b.num_pages > 50\n",
    "GROUP BY p.publisher_id, p.publisher\n",
    "ORDER BY num_books DESC\n",
    "LIMIT 1;\n",
    "\"\"\"\n",
    "df_publishers = pd.read_sql(query, con=engine)\n",
    "print(df_publishers)\n"
   ]
  },
  {
   "cell_type": "markdown",
   "metadata": {},
   "source": [
    "<div class=\"alert alert-block alert-success\">\n",
    "<b>Comentario del revisor (2da Iteracion)</b> <a class=“tocSkip”></a>\n",
    "\n",
    "Correcto, bien utilizado las funciones de agregación para obtener los resultados\n",
    "</div>"
   ]
  },
  {
   "cell_type": "code",
   "execution_count": null,
   "metadata": {},
   "outputs": [],
   "source": [
    "df_ratings= pd.io.sql.read_sql('select * from ratings', con = engine)"
   ]
  },
  {
   "cell_type": "code",
   "execution_count": null,
   "metadata": {},
   "outputs": [
    {
     "data": {
      "text/html": [
       "<div>\n",
       "<style scoped>\n",
       "    .dataframe tbody tr th:only-of-type {\n",
       "        vertical-align: middle;\n",
       "    }\n",
       "\n",
       "    .dataframe tbody tr th {\n",
       "        vertical-align: top;\n",
       "    }\n",
       "\n",
       "    .dataframe thead th {\n",
       "        text-align: right;\n",
       "    }\n",
       "</style>\n",
       "<table border=\"1\" class=\"dataframe\">\n",
       "  <thead>\n",
       "    <tr style=\"text-align: right;\">\n",
       "      <th></th>\n",
       "      <th>rating_id</th>\n",
       "      <th>book_id</th>\n",
       "      <th>username</th>\n",
       "      <th>rating</th>\n",
       "    </tr>\n",
       "  </thead>\n",
       "  <tbody>\n",
       "    <tr>\n",
       "      <th>0</th>\n",
       "      <td>1</td>\n",
       "      <td>1</td>\n",
       "      <td>ryanfranco</td>\n",
       "      <td>4</td>\n",
       "    </tr>\n",
       "    <tr>\n",
       "      <th>1</th>\n",
       "      <td>2</td>\n",
       "      <td>1</td>\n",
       "      <td>grantpatricia</td>\n",
       "      <td>2</td>\n",
       "    </tr>\n",
       "    <tr>\n",
       "      <th>2</th>\n",
       "      <td>3</td>\n",
       "      <td>1</td>\n",
       "      <td>brandtandrea</td>\n",
       "      <td>5</td>\n",
       "    </tr>\n",
       "    <tr>\n",
       "      <th>3</th>\n",
       "      <td>4</td>\n",
       "      <td>2</td>\n",
       "      <td>lorichen</td>\n",
       "      <td>3</td>\n",
       "    </tr>\n",
       "    <tr>\n",
       "      <th>4</th>\n",
       "      <td>5</td>\n",
       "      <td>2</td>\n",
       "      <td>mariokeller</td>\n",
       "      <td>2</td>\n",
       "    </tr>\n",
       "  </tbody>\n",
       "</table>\n",
       "</div>"
      ],
      "text/plain": [
       "   rating_id  book_id       username  rating\n",
       "0          1        1     ryanfranco       4\n",
       "1          2        1  grantpatricia       2\n",
       "2          3        1   brandtandrea       5\n",
       "3          4        2       lorichen       3\n",
       "4          5        2    mariokeller       2"
      ]
     },
     "execution_count": 19,
     "metadata": {},
     "output_type": "execute_result"
    }
   ],
   "source": [
    "df_ratings = pd.read_sql(\"SELECT * FROM ratings LIMIT 5;\", con=engine)\n",
    "df_ratings.head()"
   ]
  },
  {
   "cell_type": "code",
   "execution_count": null,
   "metadata": {},
   "outputs": [
    {
     "name": "stdout",
     "output_type": "stream",
     "text": [
      "   total_rows  null_rating_id  null_book_id  null_username  null_rating\n",
      "0        6456               0             0              0            0\n"
     ]
    }
   ],
   "source": [
    "query = \"\"\"\n",
    "SELECT\n",
    "    COUNT(*) AS total_rows,\n",
    "    COUNT(*) - COUNT(rating_id) AS null_rating_id,\n",
    "    COUNT(*) - COUNT(book_id) AS null_book_id,\n",
    "    COUNT(*) - COUNT(username) AS null_username,\n",
    "    COUNT(*) - COUNT(rating) AS null_rating\n",
    "FROM ratings;\n",
    "\"\"\"\n",
    "\n",
    "df_nulls = pd.read_sql(query, con=engine)\n",
    "print(df_nulls)"
   ]
  },
  {
   "cell_type": "code",
   "execution_count": null,
   "metadata": {},
   "outputs": [],
   "source": [
    "df_reviews= pd.io.sql.read_sql('select * from reviews', con = engine)"
   ]
  },
  {
   "cell_type": "code",
   "execution_count": null,
   "metadata": {},
   "outputs": [
    {
     "name": "stdout",
     "output_type": "stream",
     "text": [
      "   review_id  book_id       username  \\\n",
      "0          1        1   brandtandrea   \n",
      "1          2        1     ryanfranco   \n",
      "2          3        2       lorichen   \n",
      "3          4        3  johnsonamanda   \n",
      "4          5        3    scotttamara   \n",
      "\n",
      "                                                text  \n",
      "0  Mention society tell send professor analysis. ...  \n",
      "1  Foot glass pretty audience hit themselves. Amo...  \n",
      "2  Listen treat keep worry. Miss husband tax but ...  \n",
      "3  Finally month interesting blue could nature cu...  \n",
      "4  Nation purpose heavy give wait song will. List...  \n"
     ]
    }
   ],
   "source": [
    "df_reviews = pd.read_sql(\"SELECT * FROM reviews;\", con=engine)\n",
    "print(df_reviews.head())"
   ]
  },
  {
   "cell_type": "code",
   "execution_count": null,
   "metadata": {},
   "outputs": [],
   "source": [
    "# Normalizar nombres de usuario (muy importante para empatar los datos)\n",
    "df_ratings['username'] = df_ratings['username'].str.strip().str.lower()\n",
    "df_reviews['username'] = df_reviews['username'].str.strip().str.lower()\n"
   ]
  },
  {
   "cell_type": "markdown",
   "metadata": {},
   "source": [
    " número promedio de reseñas de texto entre los usuarios que calificaron más de 50 libros."
   ]
  },
  {
   "cell_type": "code",
   "execution_count": null,
   "metadata": {},
   "outputs": [
    {
     "name": "stdout",
     "output_type": "stream",
     "text": [
      "   avg_text_reviews\n",
      "0             24.33\n"
     ]
    }
   ],
   "source": [
    "query = \"\"\"\n",
    "WITH ratings_per_user AS (\n",
    "    SELECT\n",
    "        username,\n",
    "        COUNT(*) AS num_ratings\n",
    "    FROM ratings\n",
    "    GROUP BY username\n",
    "    HAVING COUNT(*) > 50\n",
    "),\n",
    "text_reviews_count AS (\n",
    "    SELECT\n",
    "        rpu.username,\n",
    "        COUNT(rev.text) AS num_text_reviews\n",
    "    FROM ratings_per_user rpu\n",
    "    LEFT JOIN reviews rev ON rpu.username = rev.username\n",
    "    GROUP BY rpu.username\n",
    ")\n",
    "SELECT\n",
    "    ROUND(AVG(num_text_reviews), 2) AS avg_text_reviews\n",
    "FROM text_reviews_count;\n",
    "\"\"\"\n",
    "\n",
    "df_result = pd.read_sql(query, con=engine)\n",
    "print(df_result)"
   ]
  },
  {
   "cell_type": "code",
   "execution_count": null,
   "metadata": {},
   "outputs": [
    {
     "name": "stdout",
     "output_type": "stream",
     "text": [
      "   book_id  num_reviews  avg_rating\n",
      "0        1            3        3.67\n",
      "1        2            2        2.50\n",
      "2        3            3        4.67\n",
      "3        4            2        4.50\n",
      "4        5            6        4.00\n"
     ]
    }
   ],
   "source": [
    "query = \"\"\"\n",
    "SELECT\n",
    "  book_id,\n",
    "  COUNT(rating) AS num_reviews,\n",
    "  ROUND(AVG(rating), 2) AS avg_rating\n",
    "FROM ratings\n",
    "GROUP BY book_id\n",
    "ORDER BY book_id\n",
    "LIMIT 5;\n",
    "\"\"\"\n",
    "df_reviews= pd.read_sql(query, con=engine)\n",
    "print(df_reviews)"
   ]
  },
  {
   "cell_type": "code",
   "execution_count": null,
   "metadata": {},
   "outputs": [
    {
     "name": "stdout",
     "output_type": "stream",
     "text": [
      "   author_id                      author  author_avg_rating\n",
      "0        236  J.K. Rowling/Mary GrandPré               4.29\n"
     ]
    }
   ],
   "source": [
    "query = \"\"\"\n",
    "SELECT\n",
    "    au.author_id,\n",
    "    au.author,\n",
    "    ROUND(AVG(sub.avg_rating), 2) AS author_avg_rating\n",
    "FROM (\n",
    "    SELECT\n",
    "        r.book_id,\n",
    "        COUNT(r.rating) AS num_ratings,\n",
    "        ROUND(AVG(r.rating), 2) AS avg_rating\n",
    "    FROM ratings r\n",
    "    GROUP BY r.book_id\n",
    "    HAVING COUNT(r.rating) >= 50\n",
    ") sub\n",
    "JOIN books b ON sub.book_id = b.book_id\n",
    "JOIN authors au ON b.author_id = au.author_id\n",
    "GROUP BY au.author_id, au.author\n",
    "ORDER BY author_avg_rating DESC\n",
    "LIMIT 1;\n",
    "\"\"\"\n",
    "df_authors= pd.read_sql(query, con=engine)\n",
    "print(df_authors)"
   ]
  },
  {
   "cell_type": "markdown",
   "metadata": {},
   "source": [
    "<div class=\"alert alert-block alert-success\">\n",
    "<b>Comentario del revisor (2da Iteracion)</b> <a class=“tocSkip”></a>\n",
    "\n",
    "Perfecto! Cómo puedes observar la forma en la que hagamos los filtros o se haga uso de subconsultas va a cambiar el resultado en la salida de las mismas\n",
    "</div>"
   ]
  },
  {
   "cell_type": "markdown",
   "metadata": {},
   "source": [
    "Editorial que ha publicado el mayor número de libros con más de 50 páginas"
   ]
  },
  {
   "cell_type": "code",
   "execution_count": null,
   "metadata": {},
   "outputs": [
    {
     "name": "stdout",
     "output_type": "stream",
     "text": [
      "   publisher_id      publisher  num_books\n",
      "0           212  Penguin Books         42\n"
     ]
    }
   ],
   "source": [
    "query = \"\"\"\n",
    "SELECT\n",
    "    pub.publisher_id,            \n",
    "    pub.publisher,               \n",
    "    COUNT(*) AS num_books        \n",
    "FROM books b\n",
    "JOIN publishers pub \n",
    "    ON b.publisher_id = pub.publisher_id \n",
    "WHERE b.num_pages > 50        \n",
    "GROUP BY pub.publisher_id, pub.publisher\n",
    "ORDER BY num_books DESC         \n",
    "LIMIT 1; \n",
    "\"\"\"\n",
    "df_publishers= pd.read_sql(query, con=engine)\n",
    "print(df_publishers)\n"
   ]
  },
  {
   "cell_type": "markdown",
   "metadata": {},
   "source": [
    "Autor que tiene la calificación promedio más alta considerando solo los libros que tienen al menos 50 reseñas"
   ]
  },
  {
   "cell_type": "code",
   "execution_count": null,
   "metadata": {},
   "outputs": [
    {
     "name": "stdout",
     "output_type": "stream",
     "text": [
      "Index(['book_id', 'num_reviews', 'avg_rating'], dtype='object')\n"
     ]
    }
   ],
   "source": [
    "print(df_reviews.columns)"
   ]
  },
  {
   "cell_type": "code",
   "execution_count": null,
   "metadata": {},
   "outputs": [
    {
     "data": {
      "image/png": "[encoded data removed]",
      "text/plain": [
       "<Figure size 640x480 with 1 Axes>"
      ]
     },
     "metadata": {},
     "output_type": "display_data"
    }
   ],
   "source": [
    "query = \"\"\"\n",
    "WITH ratings_per_user AS (\n",
    "    SELECT\n",
    "        username,\n",
    "        COUNT(*) AS num_ratings\n",
    "    FROM ratings\n",
    "    GROUP BY username\n",
    "    HAVING COUNT(*) > 50\n",
    "),\n",
    "text_reviews_count AS (\n",
    "    SELECT\n",
    "        rpu.username,\n",
    "        COUNT(rev.text) AS num_text_reviews\n",
    "    FROM ratings_per_user rpu\n",
    "    LEFT JOIN reviews rev ON rpu.username = rev.username\n",
    "    GROUP BY rpu.username\n",
    "),\n",
    "binned_counts AS (\n",
    "    SELECT\n",
    "        FLOOR(num_text_reviews / 2) * 2 AS bin_start,\n",
    "        COUNT(*) AS num_users\n",
    "    FROM text_reviews_count\n",
    "    GROUP BY bin_start\n",
    "    ORDER BY bin_start\n",
    ")\n",
    "SELECT\n",
    "    bin_start,\n",
    "    bin_start + 1 AS bin_end,\n",
    "    num_users\n",
    "FROM binned_counts;\n",
    "\"\"\"\n",
    "df_bins = pd.read_sql(query, con=engine)\n",
    "\n",
    "# Crear etiquetas tipo \"0-1\", \"2-3\", \"4-5\", etc.\n",
    "df_bins['range'] = df_bins['bin_start'].astype(str) + '-' + df_bins['bin_end'].astype(str)\n",
    "\n",
    "# Graficar con etiquetas más detalladas\n",
    "sns.barplot(x='range', y='num_users', data=df_bins)\n",
    "plt.title('Distribución detallada de reseñas de texto por usuario activo')\n",
    "plt.xlabel('Número de reseñas de texto')\n",
    "plt.ylabel('Cantidad de usuarios')\n",
    "plt.xticks(rotation=45)  # Rota etiquetas para que se vean mejor\n",
    "plt.tight_layout()       # Ajusta para evitar que se corten etiquetas\n",
    "plt.show()"
   ]
  },
  {
   "cell_type": "markdown",
   "metadata": {},
   "source": [
    "<div class=\"alert alert-block alert-success\">\n",
    "<b>Comentario general (2da Iteracion)</b> <a class=“tocSkip”></a>\n",
    "\n",
    "Buen trabajo con las diferentes consultas realizadas, se obtuvo los resultados adecuados aplicando las operaciones correctas en cada una.\n",
    "\n",
    "Cómo consejo adicional, debido a que SQL es un lenguaje que verás en tu día a día cómo Data Analyst te animo a seguir practicando con el mismo para que en las entrevistas técnicas destaques cómo profesional! Será muy común que cuando postules a un puesto laboral te pidan hacer una prueba de SQL, te recomiendo revisar plataformas cómo Leetcode ya que tienen ejercicios de SQL para prepararte para las entrevistas, particularmente SQL lo encuentras en este link: https://leetcode.com/problemset/database/\n",
    "    \n",
    "Saludos!\n",
    "</div>"
   ]
  }
 ],
 "metadata": {
  "kernelspec": {
   "display_name": "Python 3 (ipykernel)",
   "language": "python",
   "name": "python3"
  },
  "language_info": {
   "codemirror_mode": {
    "name": "ipython",
    "version": 3
   },
   "file_extension": ".py",
   "mimetype": "text/x-python",
   "name": "python",
   "nbconvert_exporter": "python",
   "pygments_lexer": "ipython3",
   "version": "3.9.23"
  }
 },
 "nbformat": 4,
 "nbformat_minor": 4
}
